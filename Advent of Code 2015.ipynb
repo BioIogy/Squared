{
 "cells": [
  {
   "cell_type": "markdown",
   "metadata": {},
   "source": [
    "#December 2015: Advent of Code Solutions",
    "\n",
    "##Yannick Thomassen"
   ]
  },
  {
   "cell_type": "markdown",
   "metadata": {},
   "source": [
    "From Dec. 4 to Dec. 25 (2017), inspired by the coding practices of [Peter Norvig](http://norvig.com), I will be solving the puzzles that appear each day [Advent of Code](https://adventofcode.com/). The two-part puzzles are released to solve the day's puzzles. This document will showcase all answers and the process I've underwent to figure out the answer.\n",
    "\n",
    "* Because I'm writing this code 2 years after these puzzles are released, I\n",
    "will obviously not be competing with others to be the fastest to submit an \n",
    "answer. \n",
    "* It's very tempting to look up existing solutions, but because this\n",
    "project is ment as a way to improve my coding and mathematical skills, I will\n",
    "not be doing this for my first solution. Only after I submit the correct answer\n",
    "to a solution on the website, will I be looking at prior solutions and use these\n",
    "to improve my own code. I will also document these changes.\n",
    "The code samples I will be using for this can be found at \n",
    "[Chris Penner](https://github.com/ChrisPenner/)'s \n",
    "[Advent of Code Polyglot](https://github.com/ChrisPenner/Advent-Of-Code-Polyglot/).\n",
    "\n",
    "To list the descriptions of each problem will make this document unreadable.\n",
    "Therefore, to understand the problems completely, you will have to read the\n",
    "full description by clicking the link in each day's section header."
   ]
  },
  {
   "cell_type": "markdown",
   "metadata": {},
   "source": [
    "#Day 1: Not Quite Lisp"
   ]
  },
  {
   "cell_type": "markdown",
   "metadata": {},
   "source": [
    "You find yourself in a large apartment building, starting on the ground floor \n",
    "(floor 0). Given a string of instructions, containing opening and closing \n",
    "parentheses; An opening parenthesis \"(\" meaning you should go up one floor, and \n",
    "a closing parenthesis \")\" meaning you should go down one floor; find out to\n",
    " what floor the instructions take you to.\n",
    " \n",
    "For example:\n",
    "* `(())` and `()()` both result in floor `0`.\n",
    "* `(((` and `(()(()(` both result in floor `3`.\n",
    "* `))(((((` also results in floor `3`.\n",
    "* `())` and `))(` both result in floor `-1` (the first basement level).\n",
    "* `)))` and `)())())` both result in floor `-3`.\n",
    "\n",
    "To solve the problem with function `what_floor`, I count the occurences of both the parentheses and subtract them from another. With my given input this equals a positive integer, but to account for input strings where a closing parenthesis occurs more often I return the absolute value of this statement."
   ]
  },
 {
   "cell_type": "code",
   "execution_count": 1,
   "metadata": {},
   "outputs": [
    {
     "data": {
      "text/plain": [
       "138"
      ]
     },
     "execution_count": 1,
     "metadata": {},
     "output_type": "execute_result"
    }
   ],
   "source": [
    "def what_floor(instructions):\n",
    "    \"Return absolute value of difference between parenthesis occurences.\"\n",
    "    return abs(instructions.count(\"(\") - instructions.count(\")\"))\n",
    "\n",
    "with open('C:/squared/python/advent/2015/01/input.txt') as file:\n",
    "    print(what_floor(file.read()))"
   ]
  }
 ],
 "metadata": {},
 "nbformat": 4,
 "nbformat_minor": 0
}
